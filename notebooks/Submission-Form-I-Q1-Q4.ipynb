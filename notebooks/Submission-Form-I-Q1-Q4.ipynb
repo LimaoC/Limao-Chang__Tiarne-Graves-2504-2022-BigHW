{
 "cells": [
  {
   "cell_type": "markdown",
   "metadata": {},
   "source": [
    "### MATH2504 S2, 2022, BigHW Submission \n",
    "### Submission form I of IV "
   ]
  },
  {
   "cell_type": "markdown",
   "metadata": {},
   "source": [
    "Student #1 name: Limao Chang\n",
    "\n",
    "Student #1 ID: 46978554\n",
    "\n",
    "Student #2 name: Tiarne Graves\n",
    "\n",
    "Student #2 ID: 46973081\n",
    "\n",
    "GitHub repo: https://github.com/LimaoC/Limao-Chang__Tiarne-Graves-2504-2022-BigHW"
   ]
  },
  {
   "cell_type": "markdown",
   "metadata": {},
   "source": [
    "---"
   ]
  },
  {
   "cell_type": "markdown",
   "metadata": {},
   "source": [
    "# Solution to [Question 1](https://courses.smp.uq.edu.au/MATH2504/2022/assessment_html/bighw.html#q1)"
   ]
  },
  {
   "cell_type": "markdown",
   "metadata": {},
   "source": [
    "#### 1a:"
   ]
  },
  {
   "cell_type": "markdown",
   "metadata": {},
   "source": [
    "$$\\varphi = 1 + \\frac{1}{1 + \\frac{1}{1 + \\frac{1}{1 + \\frac{1}{1 + \\ddots}}}}$$"
   ]
  },
  {
   "cell_type": "markdown",
   "metadata": {},
   "source": [
    "#### 1b:"
   ]
  },
  {
   "cell_type": "markdown",
   "metadata": {},
   "source": [
    "Favourite books:\n",
    "\n",
    "1. [Harry Potter and the Prisoner of Azkaban](https://en.wikipedia.org/wiki/Harry_Potter_and_the_Prisoner_of_Azkaban)\n",
    "2. [The Wind in the Willows](https://en.wikipedia.org/wiki/The_Wind_in_the_Willows)\n",
    "3. [Animal Farm](https://en.wikipedia.org/wiki/Animal_Farm)\n",
    "4. [The Faraway Tree](https://en.wikipedia.org/wiki/The_Faraway_Tree)\n",
    "5. [Introduction to Mathematical Philosophy](https://en.wikipedia.org/wiki/Introduction_to_Mathematical_Philosophy)"
   ]
  },
  {
   "cell_type": "markdown",
   "metadata": {},
   "source": [
    "#### 1c:"
   ]
  },
  {
   "cell_type": "markdown",
   "metadata": {},
   "source": [
    "<img src=\"https://media.wired.com/photos/592715967034dc5f91bed975/master/pass/FennecFox.jpg\" width=\"480\" height=\"270\"/>"
   ]
  },
  {
   "cell_type": "markdown",
   "metadata": {},
   "source": [
    "#### 1d:"
   ]
  },
  {
   "cell_type": "markdown",
   "metadata": {},
   "source": [
    "<table>\n",
    "    <tr>\n",
    "        <th></th>\n",
    "        <th>8:00-9:00</th>\n",
    "        <th>9:00-10:00</th>\n",
    "        <th>10:00-11:00</th>\n",
    "        <th>11:00-12:00</th>\n",
    "        <th>12:00-13:00</th>\n",
    "        <th>13:00-14:00</th>\n",
    "        <th>14:00-15:00</th>\n",
    "        <th>15:00-16:00</th>\n",
    "        <th>16:00-17:00</th>\n",
    "        <th>17:00-18:00</th>\n",
    "        <th>18:00-19:00</th>\n",
    "        <th>19:00-20:00</th>\n",
    "    </tr>\n",
    "    <tr>\n",
    "        <th>Monday</th>\n",
    "        <th>—</th>\n",
    "        <th>—</th>\n",
    "        <th colspan=\"2\">COMP3506 LEC</th>\n",
    "        <th>—</th>\n",
    "        <th>—</th>\n",
    "        <th>—</th>\n",
    "        <th>—</th>\n",
    "        <th>—</th>\n",
    "        <th colspan=\"2\">MATH2504 LEC</th>\n",
    "        <th>—</th>\n",
    "    </tr>\n",
    "    <tr>\n",
    "        <th>Tuesday</th>\n",
    "        <th>—</th>\n",
    "        <th>—</th>\n",
    "        <th>—</th>\n",
    "        <th>—</th>\n",
    "        <th colspan=\"2\">CSSE2310 LEC</th>\n",
    "        <th>—</th>\n",
    "        <th>—</th>\n",
    "        <th>—</th>\n",
    "        <th>STAT2004 TUT</th>\n",
    "        <th>MATH2504 LEC</th>\n",
    "        <th>—</th>\n",
    "    </tr>\n",
    "    <tr>\n",
    "        <th>Wednesday</th>\n",
    "        <th>—</th>\n",
    "        <th>—</th>\n",
    "        <th>STAT2004 LEC</th>\n",
    "        <th>—</th>\n",
    "        <th>—</th>\n",
    "        <th>—</th>\n",
    "        <th>—</th>\n",
    "        <th>—</th>\n",
    "        <th>—</th>\n",
    "        <th>—</th>\n",
    "        <th>—</th>\n",
    "        <th>—</th>\n",
    "    </tr>\n",
    "    <tr>\n",
    "        <th>Thursday</th>\n",
    "        <th>—</th>\n",
    "        <th>—</th>\n",
    "        <th colspan=\"2\">COMP3506 TUT</th>\n",
    "        <th>—</th>\n",
    "        <th>—</th>\n",
    "        <th>—</th>\n",
    "        <th>—</th>\n",
    "        <th>—</th>\n",
    "        <th>—</th>\n",
    "        <th>—</th>\n",
    "        <th>—</th>\n",
    "    </tr>\n",
    "    <tr>\n",
    "        <th>Friday</th>\n",
    "        <th>—</th>\n",
    "        <th>—</th>\n",
    "        <th colspan=\"2\">MATH2504 PRA</th>\n",
    "        <th>STAT2004 LEC</th>\n",
    "        <th>—</th>\n",
    "        <th colspan=\"2\">CSSE2310 PRA</th>\n",
    "        <th>—</th>\n",
    "        <th>—</th>\n",
    "        <th>—</th>\n",
    "        <th>—</th>\n",
    "    </tr>\n",
    "</table>"
   ]
  },
  {
   "cell_type": "markdown",
   "metadata": {},
   "source": [
    "# Solution to [Question 2](https://courses.smp.uq.edu.au/MATH2504/2022/assessment_html/bighw.html#q2)"
   ]
  },
  {
   "cell_type": "markdown",
   "metadata": {},
   "source": [
    "#### 2a:"
   ]
  },
  {
   "cell_type": "markdown",
   "metadata": {},
   "source": [
    "1. Yes, the function would still work, as long as you were passing in arguments of type `Number`. If a non-`Number` argument was passed in, e.g. `real_roots_of_quadratic(\"a\", 5, -6)`, an error would occur.\n",
    "2. No. The expression `4ac` would be interpreted as 4 multipled by the variable `ac`, which isn't what we want here. We want to multiply the variable `a` by `c` and `4`, so we have to separate the multiplication of `a` and `c` explicitly with the multiplication operator `*`.\n",
    "3. Syntax error: `ERROR: syntax: unexpected \"=\"`\n",
    "4. Yes, writing the expression as `(-b .+ [√Δ,-√Δ])/(2a)` works. No, using `+` instead of `.+` doesn't work. This is because `.+` applies the addition operation to all the elements in the vector `[√Δ,-√Δ]` elementwise; that is, `-b` is added to every element in the vector (thus `-b .+ [√Δ, -√Δ]` and `[-b + √Δ, -b - √Δ]` are equivalent). Using `+` doesn't make sense since we'd be trying to add a `Number` to a `Vector`, which is ambiguous.\n",
    "5. Yes.\n",
    "6. Inputting `a = 0` and a non-zero `b` gives roots `NaN` and `-Inf` (`NaN` because it tries to divide zero by zero and `-Inf` because it tries to divide a negative number by zero). Inputting `a = 0` and `b = 0` gives a single root `NaN`."
   ]
  },
  {
   "cell_type": "code",
   "execution_count": 1,
   "metadata": {},
   "outputs": [
    {
     "data": {
      "text/plain": [
       "real_roots_of_quadratic (generic function with 1 method)"
      ]
     },
     "execution_count": 1,
     "metadata": {},
     "output_type": "execute_result"
    }
   ],
   "source": [
    "# 7.\n",
    "function real_roots_of_quadratic(a::Number, b::Number, c::Number)\n",
    "    # Check if input is actually quadratic\n",
    "    if a == 0\n",
    "        return \"Error - this is not a quadratic equation\"\n",
    "    end\n",
    "\n",
    "    # Start by initializing an empty array\n",
    "    roots::Array{Float64} = []\n",
    "\n",
    "    # Compute the discriminant \n",
    "    Δ = b^2 - 4a*c #\\Delta + [TAB]\n",
    "\n",
    "    # Based on the sign of the discriminant return 0, 1, or 2 roots.\n",
    "    if Δ < 0 \n",
    "        roots = []\n",
    "    elseif Δ == 0\n",
    "        roots = [-b/(2a)]\n",
    "    else\n",
    "        roots = [-b + √Δ, -b - √Δ] / (2a) #\\sqrt + [TAB]\n",
    "    end\n",
    "    return roots \n",
    "end"
   ]
  },
  {
   "cell_type": "code",
   "execution_count": 2,
   "metadata": {},
   "outputs": [
    {
     "data": {
      "text/plain": [
       "real_roots_of_quadratic (generic function with 1 method)"
      ]
     },
     "execution_count": 2,
     "metadata": {},
     "output_type": "execute_result"
    }
   ],
   "source": [
    "# 8.\n",
    "function real_roots_of_quadratic(a::Number, b::Number, c::Number)\n",
    "    # Check if input is actually quadratic\n",
    "    a == 0 && return \"Error - this is not a quadratic equation\"\n",
    "\n",
    "    # Start by initializing an empty array\n",
    "    roots::Array{Float64} = []\n",
    "\n",
    "    # Compute the discriminant \n",
    "    Δ = b^2 - 4a*c #\\Delta + [TAB]\n",
    "\n",
    "    # Based on the sign of the discriminant return 0, 1, or 2 roots.\n",
    "    if Δ < 0 \n",
    "        roots = []\n",
    "    elseif Δ == 0\n",
    "        roots = [-b/(2a)]\n",
    "    else\n",
    "        roots = [-b + √Δ, -b - √Δ] / (2a) #\\sqrt + [TAB]\n",
    "    end\n",
    "    return roots \n",
    "end"
   ]
  },
  {
   "cell_type": "markdown",
   "metadata": {},
   "source": [
    "8. (cont.) `&&` is a short-circuiting boolean AND, which means that it first evaluates the left expression (`a == 0`), and if it is `false`, the whole expression is false (there is no need to evaluate the right expression, in which case the error message is not returned and the function continues). If it is `true`, the right expression is evaluated, which then returns the error message and the function exits."
   ]
  },
  {
   "cell_type": "code",
   "execution_count": 3,
   "metadata": {},
   "outputs": [
    {
     "data": {
      "text/plain": [
       "real_roots_of_quadratic (generic function with 1 method)"
      ]
     },
     "execution_count": 3,
     "metadata": {},
     "output_type": "execute_result"
    }
   ],
   "source": [
    "# 9.\n",
    "function real_roots_of_quadratic(a::Number, b::Number, c::Number)\n",
    "    # Check if input is actually quadratic\n",
    "    a == 0 && throw(DomainError(a, \"argument must be nonzero\"))\n",
    "\n",
    "    # Start by initializing an empty array\n",
    "    roots::Array{Float64} = []\n",
    "\n",
    "    # Compute the discriminant \n",
    "    Δ = b^2 - 4a*c #\\Delta + [TAB]\n",
    "\n",
    "    # Based on the sign of the discriminant return 0, 1, or 2 roots.\n",
    "    if Δ < 0 \n",
    "        roots = []\n",
    "    elseif Δ == 0\n",
    "        roots = [-b/(2a)]\n",
    "    else\n",
    "        roots = [-b + √Δ, -b - √Δ] / (2a) #\\sqrt + [TAB]\n",
    "    end\n",
    "    return roots \n",
    "end"
   ]
  },
  {
   "cell_type": "markdown",
   "metadata": {},
   "source": [
    "9. (cont.) Similarly to part 8, a short-circuiting boolean AND is being used here. However, the right expression, when evaluated, throws an exception and exits the function - in this case a `DomainError` exception is thrown. This is a \"proper\" error, unlike in part 8 where a string was returned instead (technically not an actual error). This is advantageous because it stops any further execution of the program, which is usually the desired behaviour when an error occurs. A stacktrace is also provided detailing how and where the error occurred, which can be useful for debugging."
   ]
  },
  {
   "cell_type": "markdown",
   "metadata": {},
   "source": [
    "#### 2b:"
   ]
  },
  {
   "cell_type": "code",
   "execution_count": 4,
   "metadata": {},
   "outputs": [
    {
     "name": "stdout",
     "output_type": "stream",
     "text": [
      "The equation 1x² + -5x + 6 = 0 has the real roots 3.0 and 2.0\n",
      "The equation 1x² + 2x + 3 = 0 has no real roots.\n",
      "The equation 1x² + 7x + 0 = 0 has the real roots 0.0 and -7.0\n",
      "The equation 2x² + 4x + 2 = 0 has the single (real) root -1.0\n",
      "The equation -1x² + 3x + 0 = 0 has the real roots -0.0 and 3.0\n"
     ]
    }
   ],
   "source": [
    "# 1.\n",
    "examples = [[1,-5,6], [1,2,3], [1,7,0], [2,4,2], [-1,3,0]]\n",
    "\n",
    "for example in examples\n",
    "    roots = real_roots_of_quadratic(example[1], example[2], example[3])\n",
    "    print(\"The equation $(example[1])x² + $(example[2])x + $(example[3]) = 0 \") #\\^2 + [TAB] #***\n",
    "    if length(roots) == 0 #***\n",
    "        println(\"has no real roots.\") #***\n",
    "    elseif length(roots) == 1 #***\n",
    "        println(\"has the single (real) root $(roots[1])\") #***\n",
    "    else #***\n",
    "        println(\"has the real roots $(roots[1]) and $(roots[2])\") #***\n",
    "    end #***\n",
    "end"
   ]
  },
  {
   "cell_type": "code",
   "execution_count": 5,
   "metadata": {},
   "outputs": [
    {
     "name": "stdout",
     "output_type": "stream",
     "text": [
      "The equation 1x² + -5x + 6 = 0 has the real roots 3.0 and 2.0\n",
      "The equation 1x² + 2x + 3 = 0 has no real roots.\n",
      "The equation 1x² + 7x + 0 = 0 has the real roots 0.0 and -7.0\n",
      "The equation 2x² + 4x + 2 = 0 has the single (real) root -1.0\n",
      "The equation -1x² + 3x + 0 = 0 has the real roots -0.0 and 3.0\n"
     ]
    }
   ],
   "source": [
    "# 2.\n",
    "\n",
    "function print_quadratic_roots(coefficients::Array{<:Number}, roots::Array{<:Number})\n",
    "    print(\"The equation $(coefficients[1])x² + $(coefficients[2])x + $(coefficients[3]) = 0 \")\n",
    "    if length(roots) == 0\n",
    "        println(\"has no real roots.\")\n",
    "    elseif length(roots) == 1\n",
    "        println(\"has the single (real) root $(roots[1])\")\n",
    "    else\n",
    "        println(\"has the real roots $(roots[1]) and $(roots[2])\")\n",
    "    end\n",
    "    return nothing\n",
    "end\n",
    "\n",
    "examples = [[1,-5,6], [1,2,3], [1,7,0], [2,4,2], [-1,3,0]]\n",
    "\n",
    "for example in examples\n",
    "    roots = real_roots_of_quadratic(example[1], example[2], example[3])\n",
    "    print_quadratic_roots(example, roots)\n",
    "end"
   ]
  },
  {
   "cell_type": "code",
   "execution_count": 6,
   "metadata": {},
   "outputs": [
    {
     "name": "stdout",
     "output_type": "stream",
     "text": [
      "The equation x² + -5x + 6 = 0 has the real roots 3.0 and 2.0\n",
      "The equation x² + 2x + 3 = 0 has no real roots.\n",
      "The equation x² + 7x + 0 = 0 has the real roots 0.0 and -7.0\n",
      "The equation 2x² + 4x + 2 = 0 has the single (real) root -1.0\n",
      "The equation -x² + 3x + 0 = 0 has the real roots -0.0 and 3.0\n"
     ]
    }
   ],
   "source": [
    "# 2.\n",
    "\n",
    "function beautify(coefficient::Number)\n",
    "    return coefficient == 1 ? \"\" : (coefficient == -1 ? \"-\" : coefficient)\n",
    "end\n",
    "\n",
    "function print_quadratic_roots(coefficients::Array{<:Number}, roots::Array{<:Number})\n",
    "    print(\"The equation $(beautify(coefficients[1]))x² + $(beautify(coefficients[2]))x + $(coefficients[3]) = 0 \")\n",
    "    if length(roots) == 0\n",
    "        println(\"has no real roots.\")\n",
    "    elseif length(roots) == 1\n",
    "        println(\"has the single (real) root $(roots[1])\")\n",
    "    else\n",
    "        println(\"has the real roots $(roots[1]) and $(roots[2])\")\n",
    "    end\n",
    "    return nothing\n",
    "end\n",
    "\n",
    "examples = [[1,-5,6], [1,2,3], [1,7,0], [2,4,2], [-1,3,0]]\n",
    "\n",
    "for example in examples\n",
    "    roots = real_roots_of_quadratic(example[1], example[2], example[3])\n",
    "    print_quadratic_roots(example, roots)\n",
    "end"
   ]
  },
  {
   "cell_type": "markdown",
   "metadata": {},
   "source": [
    "#### 2c:"
   ]
  },
  {
   "cell_type": "markdown",
   "metadata": {},
   "source": [
    "1. To randomly generate coefficients in the range `[-5, 5]`, we would use `10rand(3) .- 5` instead. The test passes with this change (see below)."
   ]
  },
  {
   "cell_type": "code",
   "execution_count": 7,
   "metadata": {},
   "outputs": [
    {
     "name": "stdout",
     "output_type": "stream",
     "text": [
      "Test passed\n"
     ]
    }
   ],
   "source": [
    "# 1. (cont).\n",
    "using Random\n",
    "\"\"\"\n",
    "This function generates `num_tests` random triples of coefficients and checks that the function `real_roots_of_quadratic()` does its job. The return value is `true` if the test passed, otherwise it is `false`.\n",
    "\"\"\"\n",
    "function test_real_roots_of_quadratic(;num_tests = 10000, seed=42)\n",
    "    Random.seed!(seed)\n",
    "    test_passed = true\n",
    "    for _ in 1:num_tests\n",
    "        a, b, c = 10rand(3) .- 5 #uniform values in the range [-5, 5]\n",
    "        roots = real_roots_of_quadratic(a,b,c)\n",
    "        for x in roots\n",
    "            err = a*x^2 + b*x + c \n",
    "            test_passed = (test_passed && isapprox(err, 0.0, atol = 1e-8)) \n",
    "        end\n",
    "    end\n",
    "    return test_passed\n",
    "end\n",
    "\n",
    "test_real_roots_of_quadratic() ? println(\"Test passed\") : println(\"Test failed\")"
   ]
  },
  {
   "cell_type": "code",
   "execution_count": 8,
   "metadata": {},
   "outputs": [
    {
     "name": "stdout",
     "output_type": "stream",
     "text": [
      "Test passed\n"
     ]
    }
   ],
   "source": [
    "# 2.\n",
    "\"\"\"\n",
    "This function generates `num_tests` random triples of coefficients and checks that the function `real_roots_of_quadratic()` does its job. The return value is `true` if the test passed, otherwise it is `false`.\n",
    "\"\"\"\n",
    "function test_real_roots_of_quadratic(;num_tests=10000, seed=42, coeff_min=-1000, coeff_max=1000)\n",
    "    Random.seed!(seed)\n",
    "    test_passed = true\n",
    "    for _ in 1:num_tests\n",
    "        a, b, c = (coeff_max - coeff_min)rand(3) .+ coeff_min #uniform values in the range [-coeff_min, coeff_max]\n",
    "        roots = real_roots_of_quadratic(a,b,c)\n",
    "        for x in roots\n",
    "            err = a*x^2 + b*x + c \n",
    "            test_passed = (test_passed && isapprox(err, 0.0, atol = 1e-8)) \n",
    "        end\n",
    "    end\n",
    "    return test_passed\n",
    "end\n",
    "\n",
    "test_real_roots_of_quadratic() ? println(\"Test passed\") : println(\"Test failed\")"
   ]
  },
  {
   "cell_type": "markdown",
   "metadata": {},
   "source": [
    "3. When there are no real roots, `roots` is an empty array, so the `for` loop doesn't execute any iterations (nothing to loop over). Thus the`test_passed` variable is not updated and stays the same, so this one particular test passes by default.\n",
    "4. If the `real_roots_of_quadratic` function returns no real roots, the test passes by default. So if it always returns no real roots (an empty array), the test will always pass, as demonstrated below:"
   ]
  },
  {
   "cell_type": "code",
   "execution_count": 9,
   "metadata": {},
   "outputs": [
    {
     "name": "stdout",
     "output_type": "stream",
     "text": [
      "Test passed\n"
     ]
    }
   ],
   "source": [
    "# 4.\n",
    "function real_roots_of_quadratic(a::Number, b::Number, c::Number)\n",
    "    # Check if input is actually quadratic\n",
    "    a == 0 && throw(DomainError(a, \"argument must be nonzero\"))\n",
    "\n",
    "    # Start by initializing an empty array\n",
    "    roots::Array{Float64} = []\n",
    "\n",
    "    # Compute the discriminant \n",
    "    Δ = b^2 - 4a*c #\\Delta + [TAB]\n",
    "\n",
    "    # Based on the sign of the discriminant return 0, 1, or 2 roots.\n",
    "    if Δ < 0 \n",
    "        roots = []\n",
    "    elseif Δ == 0\n",
    "        roots = []\n",
    "    else\n",
    "        roots = [] #\\sqrt + [TAB]\n",
    "    end\n",
    "    return roots \n",
    "end\n",
    "\n",
    "using Random\n",
    "\"\"\"\n",
    "This function generates `num_tests` random triples of coefficients and checks that the function `real_roots_of_quadratic()` does its job. The return value is `true` if the test passed, otherwise it is `false`.\n",
    "\"\"\"\n",
    "function test_real_roots_of_quadratic(;num_tests=10000, seed=42, coeff_min=-1000, coeff_max=1000)\n",
    "    Random.seed!(seed)\n",
    "    test_passed = true\n",
    "    for _ in 1:num_tests\n",
    "        a, b, c = (coeff_max - coeff_min)rand(3) .+ coeff_min #uniform values in the range [coeff_min, coeff_max]\n",
    "        roots = real_roots_of_quadratic(a,b,c)\n",
    "        for x in roots\n",
    "            err = a*x^2 + b*x + c \n",
    "            test_passed = (test_passed && isapprox(err, 0.0, atol = 1e-8)) \n",
    "        end\n",
    "    end\n",
    "    return test_passed\n",
    "end\n",
    "\n",
    "test_real_roots_of_quadratic() ? println(\"Test passed\") : println(\"Test failed\")"
   ]
  },
  {
   "cell_type": "code",
   "execution_count": 10,
   "metadata": {},
   "outputs": [
    {
     "data": {
      "text/plain": [
       "true"
      ]
     },
     "execution_count": 10,
     "metadata": {},
     "output_type": "execute_result"
    }
   ],
   "source": [
    "# 5.\n",
    "# correct implementation of real_roots_of_quadratic()\n",
    "function real_roots_of_quadratic(a::Number, b::Number, c::Number)\n",
    "    # Check if input is actually quadratic\n",
    "    a == 0 && throw(DomainError(a, \"argument must be nonzero\"))\n",
    "\n",
    "    # Start by initializing an empty array\n",
    "    roots::Array{Float64} = []\n",
    "\n",
    "    # Compute the discriminant \n",
    "    Δ = b^2 - 4a*c #\\Delta + [TAB]\n",
    "\n",
    "    # Based on the sign of the discriminant return 0, 1, or 2 roots.\n",
    "    if Δ < 0 \n",
    "        roots = []\n",
    "    elseif Δ == 0\n",
    "        roots = [-b/(2a)]\n",
    "    else\n",
    "        roots = [-b + √Δ, -b - √Δ] / (2a) #\\sqrt + [TAB]\n",
    "    end\n",
    "    return roots \n",
    "end\n",
    "\n",
    "using StatsBase\n",
    "\n",
    "function test_real_roots_of_quadratic2(;num_tests=10000, seed=42, min_root=-100, max_root=100)\n",
    "    min_root >= max_root && throw(DomainError(min_root, \"min_root must be strictly less than max_root\"))\n",
    "\n",
    "    Random.seed!(seed)\n",
    "    test_passed = true\n",
    "\n",
    "    for _ in 1:num_tests\n",
    "        # generate a random number of roots (0, 1, or 2) and generate random unique roots in the range [min_root, max_root]\n",
    "        num_roots = trunc(Int, 3rand())\n",
    "        roots = sample(min_root:max_root, num_roots, replace=false)\n",
    "\n",
    "        # generate a quadratic that match the root(s)\n",
    "        if num_roots == 0\n",
    "            # pick one set of coefficients from a few quadratics with zero roots\n",
    "            coefficients = [[1, 2, 3], [-1, 5, -8], [4, -5, 3], [1, 7, 17], [-1, 0, -10]][trunc(Int, 5rand() + 1)]\n",
    "        else\n",
    "            # 1 root: quadratic is in the form y = a(x - b)² = ax² - 2abx + ab²\n",
    "            # 2 roots: quadratic is in the form y = a(x - b)(x - c) = ax² - a(b + c)x + abc\n",
    "            a = trunc(Int, 100rand() + 1)  # generate random (non-zero) value for a\n",
    "            coefficients = num_roots == 1 ? [a, -2a * roots[1], a * roots[1]^2] : [a, -a * (roots[1] + roots[2]), a * roots[1] * roots[2]]\n",
    "        end\n",
    "        \n",
    "        # check whether real_roots_of_quadratic(), when run with these coefficients, gives the correct number of roots\n",
    "        test_passed = test_passed && (length(real_roots_of_quadratic(coefficients[1], coefficients[2], coefficients[3])) == num_roots)\n",
    "    end\n",
    "    return test_passed\n",
    "end\n",
    "\n",
    "test_real_roots_of_quadratic2()"
   ]
  },
  {
   "cell_type": "markdown",
   "metadata": {},
   "source": [
    "#### 2d:"
   ]
  },
  {
   "cell_type": "code",
   "execution_count": 11,
   "metadata": {},
   "outputs": [
    {
     "data": {
      "text/plain": [
       "2-element Vector{ComplexF64}:\n",
       " -1.0 + 1.4142135623730951im\n",
       " -1.0 - 1.4142135623730951im"
      ]
     },
     "execution_count": 11,
     "metadata": {},
     "output_type": "execute_result"
    }
   ],
   "source": [
    "function roots_of_quadratic(a::Number, b::Number, c::Number)\n",
    "    roots::Array{ComplexF64} = []\n",
    "    Δ = b^2 - 4a*c\n",
    "    roots = Δ == 0 ? ( -b/(2a) ) : ( (Δ < 0 ? [-b + √Complex(Δ), -b - √Complex(Δ)] : [-b + √Δ, -b - √Δ]) / (2a) )\n",
    "    return roots \n",
    "end\n",
    "\n",
    "roots_of_quadratic(1,2,3)"
   ]
  },
  {
   "cell_type": "markdown",
   "metadata": {},
   "source": [
    "# Solution to [Question 3](https://courses.smp.uq.edu.au/MATH2504/2022/assessment_html/bighw.html#q3)"
   ]
  },
  {
   "cell_type": "markdown",
   "metadata": {},
   "source": [
    "#### 3a:"
   ]
  },
  {
   "cell_type": "code",
   "execution_count": null,
   "metadata": {},
   "outputs": [],
   "source": []
  },
  {
   "cell_type": "markdown",
   "metadata": {},
   "source": [
    "#### 3b:"
   ]
  },
  {
   "cell_type": "code",
   "execution_count": null,
   "metadata": {},
   "outputs": [],
   "source": []
  },
  {
   "cell_type": "markdown",
   "metadata": {},
   "source": [
    "#### 3c:"
   ]
  },
  {
   "cell_type": "code",
   "execution_count": null,
   "metadata": {},
   "outputs": [],
   "source": []
  },
  {
   "cell_type": "markdown",
   "metadata": {},
   "source": [
    "# Solution to [Question 4](https://courses.smp.uq.edu.au/MATH2504/2022/assessment_html/bighw.html#q4)"
   ]
  },
  {
   "cell_type": "markdown",
   "metadata": {},
   "source": [
    "#### 4a:"
   ]
  },
  {
   "cell_type": "code",
   "execution_count": null,
   "metadata": {},
   "outputs": [],
   "source": []
  },
  {
   "cell_type": "markdown",
   "metadata": {},
   "source": [
    "#### 4b:"
   ]
  },
  {
   "cell_type": "code",
   "execution_count": null,
   "metadata": {},
   "outputs": [],
   "source": []
  },
  {
   "cell_type": "markdown",
   "metadata": {},
   "source": [
    "#### 4c:"
   ]
  },
  {
   "cell_type": "code",
   "execution_count": null,
   "metadata": {},
   "outputs": [],
   "source": []
  }
 ],
 "metadata": {
  "kernelspec": {
   "display_name": "Julia 1.7.3",
   "language": "julia",
   "name": "julia-1.7"
  },
  "language_info": {
   "file_extension": ".jl",
   "mimetype": "application/julia",
   "name": "julia",
   "version": "1.7.3"
  }
 },
 "nbformat": 4,
 "nbformat_minor": 4
}
