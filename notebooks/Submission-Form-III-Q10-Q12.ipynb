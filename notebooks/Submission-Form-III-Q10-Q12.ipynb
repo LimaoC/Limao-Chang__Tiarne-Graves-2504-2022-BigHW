{
 "cells": [
  {
   "cell_type": "markdown",
   "metadata": {},
   "source": [
    "### MATH2504 S2, 2022, BigHW Submission \n",
    "### Submission form III of IV "
   ]
  },
  {
   "cell_type": "markdown",
   "metadata": {},
   "source": [
    "Student #1 name: Limao Chang\n",
    "\n",
    "Student #1 ID: 46978554\n",
    "\n",
    "Student #2 name: Tiarne Graves\n",
    "\n",
    "Student #2 ID: 46973081\n",
    "\n",
    "GitHub repo: https://github.com/LimaoC/Limao-Chang__Tiarne-Graves-2504-2022-BigHW"
   ]
  },
  {
   "cell_type": "markdown",
   "metadata": {},
   "source": [
    "---\n",
    "\n",
    "**Note: It is expected that this notebook be runnable in the sense that the marker can select \"Restart & Run All\" and all code cells of solutions will execute. This requires not to have name clashes between solutions.**\n",
    "\n",
    "---"
   ]
  },
  {
   "cell_type": "markdown",
   "metadata": {},
   "source": [
    "# Solution to [Question 10](https://courses.smp.uq.edu.au/MATH2504/2022/assessment_html/bighw.html#q10)"
   ]
  },
  {
   "cell_type": "markdown",
   "metadata": {},
   "source": [
    "Done!"
   ]
  },
  {
   "cell_type": "markdown",
   "metadata": {},
   "source": [
    "# Solution to [Question 11](https://courses.smp.uq.edu.au/MATH2504/2022/assessment_html/bighw.html#q11)"
   ]
  },
  {
   "cell_type": "markdown",
   "metadata": {},
   "source": [
    "#### 11a:"
   ]
  },
  {
   "cell_type": "markdown",
   "metadata": {},
   "source": [
    "Windows PC@DESKTOP-T16LGE1 MINGW64 ~\n",
    "$ cd '/c/Users/Windows PC/Desktop/hw2_q1'\n",
    "\n",
    "Windows PC@DESKTOP-T16LGE1 MINGW64 ~/Desktop/hw2_q1\n",
    "$ pwd\n",
    "/c/Users/Windows PC/Desktop/hw2_q1"
   ]
  },
  {
   "cell_type": "markdown",
   "metadata": {},
   "source": [
    "#### 11b:"
   ]
  },
  {
   "cell_type": "markdown",
   "metadata": {},
   "source": [
    "Windows PC@DESKTOP-T16LGE1 MINGW64 ~/Desktop/hw2_q1\n",
    "$ echo \"Tiarne Graves\"\n",
    "Tiarne Graves\n"
   ]
  },
  {
   "cell_type": "markdown",
   "metadata": {},
   "source": [
    "#### 11c:"
   ]
  },
  {
   "cell_type": "markdown",
   "metadata": {},
   "source": [
    "Windows PC@DESKTOP-T16LGE1 MINGW64 ~/Desktop/hw2_q1\n",
    "$ echo \"Tiarne Graves\" > my_name.txt"
   ]
  },
  {
   "cell_type": "markdown",
   "metadata": {},
   "source": [
    "#### 11d:"
   ]
  },
  {
   "cell_type": "markdown",
   "metadata": {},
   "source": [
    "Windows PC@DESKTOP-T16LGE1 MINGW64 ~/Desktop/hw2_q1\n",
    "$ cat my_name.txt\n",
    "Tiarne Graves\n"
   ]
  },
  {
   "cell_type": "markdown",
   "metadata": {},
   "source": [
    "#### 11e:"
   ]
  },
  {
   "cell_type": "markdown",
   "metadata": {},
   "source": [
    "Windows PC@DESKTOP-T16LGE1 MINGW64 ~/Desktop/hw2_q1\n",
    "$ ls -l\n",
    "total 1\n",
    "-rw-r--r-- 1 Windows PC 197121 14 Aug  8 20:27 my_name.txt"
   ]
  },
  {
   "cell_type": "markdown",
   "metadata": {},
   "source": [
    "#### 11f:"
   ]
  },
  {
   "cell_type": "markdown",
   "metadata": {},
   "source": [
    "Windows PC@DESKTOP-T16LGE1 MINGW64 ~/Desktop/hw2_q1\n",
    "$ cp my_name.txt my_name2.txt"
   ]
  },
  {
   "cell_type": "markdown",
   "metadata": {},
   "source": [
    "#### 11g:"
   ]
  },
  {
   "cell_type": "markdown",
   "metadata": {},
   "source": [
    "Windows PC@DESKTOP-T16LGE1 MINGW64 ~/Desktop/hw2_q1\n",
    "$ mkdir people\n"
   ]
  },
  {
   "cell_type": "markdown",
   "metadata": {},
   "source": [
    "#### 11h:"
   ]
  },
  {
   "cell_type": "markdown",
   "metadata": {},
   "source": [
    "Windows PC@DESKTOP-T16LGE1 MINGW64 ~/Desktop/hw2_q1\n",
    "$ mv my_name2.txt people/Tiarne_Graves.txt"
   ]
  },
  {
   "cell_type": "markdown",
   "metadata": {},
   "source": [
    "#### 11i:"
   ]
  },
  {
   "cell_type": "markdown",
   "metadata": {},
   "source": [
    "Windows PC@DESKTOP-T16LGE1 MINGW64 ~/Desktop/hw2_q1\n",
    "$ echo \"Limao Chang\" > my_name3.txt\n",
    "\n",
    "Windows PC@DESKTOP-T16LGE1 MINGW64 ~/Desktop/hw2_q1\n",
    "$ mv my_name3.txt people/Limao_Chang.txt\n",
    "\n",
    "Windows PC@DESKTOP-T16LGE1 MINGW64 ~/Desktop/hw2_q1\n",
    "$ echo \"Rachel Chiong\" > my_name4.txt\n",
    "\n",
    "Windows PC@DESKTOP-T16LGE1 MINGW64 ~/Desktop/hw2_q1\n",
    "$ mv my_name4.txt people/Rachel_Chiong.txt\n",
    "\n",
    "Windows PC@DESKTOP-T16LGE1 MINGW64 ~/Desktop/hw2_q1\n",
    "$ echo \"Jackson Schilling\" > my_name5.txt\n",
    "\n",
    "Windows PC@DESKTOP-T16LGE1 MINGW64 ~/Desktop/hw2_q1\n",
    "$ mv my_name5.txt people/Jackson_Schilling.txt\n"
   ]
  },
  {
   "cell_type": "markdown",
   "metadata": {},
   "source": [
    "#### 11j:"
   ]
  },
  {
   "cell_type": "markdown",
   "metadata": {},
   "source": [
    "Windows PC@DESKTOP-T16LGE1 MINGW64 ~/Desktop/hw2_q1\n",
    "$ cd people\n",
    "\n",
    "Windows PC@DESKTOP-T16LGE1 MINGW64 ~/Desktop/hw2_q1/people\n",
    "$ mv Tiarne_Graves.txt ..\n"
   ]
  },
  {
   "cell_type": "markdown",
   "metadata": {},
   "source": [
    "#### 11k:"
   ]
  },
  {
   "cell_type": "markdown",
   "metadata": {},
   "source": [
    "Windows PC@DESKTOP-T16LGE1 MINGW64 ~/Desktop/hw2_q1/people\n",
    "$ mv Limao_Chang.txt ~/Desktop/hw2_q1"
   ]
  },
  {
   "cell_type": "markdown",
   "metadata": {},
   "source": [
    "#### 11l:"
   ]
  },
  {
   "cell_type": "markdown",
   "metadata": {},
   "source": [
    "Windows PC@DESKTOP-T16LGE1 MINGW64 ~/Desktop/hw2_q1/people\n",
    "$ cp Rachel_Chiong.txt .Rachel_Chiong.txt"
   ]
  },
  {
   "cell_type": "markdown",
   "metadata": {},
   "source": [
    "#### 11m:"
   ]
  },
  {
   "cell_type": "markdown",
   "metadata": {},
   "source": [
    "Windows PC@DESKTOP-T16LGE1 MINGW64 ~/Desktop/hw2_q1/people\n",
    "$ ls -la\n",
    "total 11\n",
    "drwxr-xr-x 1 Windows PC 197121  0 Aug  8 20:44 ./\n",
    "drwxr-xr-x 1 Windows PC 197121  0 Aug  8 20:42 ../\n",
    "-rw-r--r-- 1 Windows PC 197121 14 Aug  8 20:44 .Rachel_Chiong.txt\n",
    "-rw-r--r-- 1 Windows PC 197121 18 Aug  8 20:39 Jackson_Schilling.txt\n",
    "-rw-r--r-- 1 Windows PC 197121 14 Aug  8 20:38 Rachel_Chiong.txt\n"
   ]
  },
  {
   "cell_type": "markdown",
   "metadata": {},
   "source": [
    "#### 11n:"
   ]
  },
  {
   "cell_type": "markdown",
   "metadata": {},
   "source": [
    "Windows PC@DESKTOP-T16LGE1 MINGW64 ~/Desktop/hw2_q1/people\n",
    "$ rm *\n"
   ]
  },
  {
   "cell_type": "markdown",
   "metadata": {},
   "source": [
    "#### 11o:"
   ]
  },
  {
   "cell_type": "markdown",
   "metadata": {},
   "source": [
    "Windows PC@DESKTOP-T16LGE1 MINGW64 ~/Desktop/hw2_q1\n",
    "$ rm -r people\n"
   ]
  },
  {
   "cell_type": "markdown",
   "metadata": {},
   "source": [
    "# Solution to [Question 12](https://courses.smp.uq.edu.au/MATH2504/2022/assessment_html/bighw.html#q12)"
   ]
  },
  {
   "cell_type": "code",
   "execution_count": null,
   "metadata": {},
   "outputs": [],
   "source": []
  }
 ],
 "metadata": {
  "kernelspec": {
   "display_name": "Julia 1.7.3",
   "language": "julia",
   "name": "julia-1.7"
  },
  "language_info": {
   "file_extension": ".jl",
   "mimetype": "application/julia",
   "name": "julia",
   "version": "1.7.3"
  }
 },
 "nbformat": 4,
 "nbformat_minor": 4
}
