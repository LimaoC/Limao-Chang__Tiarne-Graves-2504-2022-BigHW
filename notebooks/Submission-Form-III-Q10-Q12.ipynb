{
 "cells": [
  {
   "cell_type": "markdown",
   "metadata": {},
   "source": [
    "### MATH2504 S2, 2022, BigHW Submission \n",
    "### Submission form III of IV "
   ]
  },
  {
   "cell_type": "markdown",
   "metadata": {},
   "source": [
    "Student #1 name: Limao Chang\n",
    "\n",
    "Student #1 ID: 46978554\n",
    "\n",
    "Student #2 name: Tiarne Graves\n",
    "\n",
    "Student #2 ID: 46973081\n",
    "\n",
    "GitHub repo: https://github.com/LimaoC/Limao-Chang__Tiarne-Graves-2504-2022-BigHW"
   ]
  },
  {
   "cell_type": "markdown",
   "metadata": {},
   "source": [
    "---\n",
    "\n",
    "**Note: It is expected that this notebook be runnable in the sense that the marker can select \"Restart & Run All\" and all code cells of solutions will execute. This requires not to have name clashes between solutions.**\n",
    "\n",
    "---"
   ]
  },
  {
   "cell_type": "markdown",
   "metadata": {},
   "source": [
    "# Solution to [Question 10](https://courses.smp.uq.edu.au/MATH2504/2022/assessment_html/bighw.html#q10)"
   ]
  },
  {
   "cell_type": "markdown",
   "metadata": {},
   "source": [
    "Done!"
   ]
  },
  {
   "cell_type": "markdown",
   "metadata": {},
   "source": [
    "# Solution to [Question 11](https://courses.smp.uq.edu.au/MATH2504/2022/assessment_html/bighw.html#q11)"
   ]
  },
  {
   "cell_type": "markdown",
   "metadata": {},
   "source": [
    "#### 11a:"
   ]
  },
  {
   "cell_type": "markdown",
   "metadata": {},
   "source": [
    "Windows PC@DESKTOP-T16LGE1 MINGW64 ~\n",
    "$ cd '/c/Users/Windows PC/Desktop/hw2_q1'\n",
    "\n",
    "Windows PC@DESKTOP-T16LGE1 MINGW64 ~/Desktop/hw2_q1\n",
    "$ pwd\n",
    "/c/Users/Windows PC/Desktop/hw2_q1"
   ]
  },
  {
   "cell_type": "markdown",
   "metadata": {},
   "source": [
    "#### 11b:"
   ]
  },
  {
   "cell_type": "markdown",
   "metadata": {},
   "source": [
    "Windows PC@DESKTOP-T16LGE1 MINGW64 ~/Desktop/hw2_q1\n",
    "$ echo \"Tiarne Graves\"\n",
    "Tiarne Graves\n"
   ]
  },
  {
   "cell_type": "markdown",
   "metadata": {},
   "source": [
    "#### 11c:"
   ]
  },
  {
   "cell_type": "markdown",
   "metadata": {},
   "source": [
    "Windows PC@DESKTOP-T16LGE1 MINGW64 ~/Desktop/hw2_q1\n",
    "$ echo \"Tiarne Graves\" > my_name.txt"
   ]
  },
  {
   "cell_type": "markdown",
   "metadata": {},
   "source": [
    "#### 11d:"
   ]
  },
  {
   "cell_type": "markdown",
   "metadata": {},
   "source": [
    "Windows PC@DESKTOP-T16LGE1 MINGW64 ~/Desktop/hw2_q1\n",
    "$ cat my_name.txt\n",
    "Tiarne Graves\n"
   ]
  },
  {
   "cell_type": "markdown",
   "metadata": {},
   "source": [
    "#### 11e:"
   ]
  },
  {
   "cell_type": "markdown",
   "metadata": {},
   "source": [
    "Windows PC@DESKTOP-T16LGE1 MINGW64 ~/Desktop/hw2_q1\n",
    "$ ls -l\n",
    "total 1\n",
    "-rw-r--r-- 1 Windows PC 197121 14 Aug  8 20:27 my_name.txt"
   ]
  },
  {
   "cell_type": "markdown",
   "metadata": {},
   "source": [
    "#### 11f:"
   ]
  },
  {
   "cell_type": "markdown",
   "metadata": {},
   "source": [
    "Windows PC@DESKTOP-T16LGE1 MINGW64 ~/Desktop/hw2_q1\n",
    "$ cp my_name.txt my_name2.txt"
   ]
  },
  {
   "cell_type": "markdown",
   "metadata": {},
   "source": [
    "#### 11g:"
   ]
  },
  {
   "cell_type": "markdown",
   "metadata": {},
   "source": [
    "Windows PC@DESKTOP-T16LGE1 MINGW64 ~/Desktop/hw2_q1\n",
    "$ mkdir people\n"
   ]
  },
  {
   "cell_type": "markdown",
   "metadata": {},
   "source": [
    "#### 11h:"
   ]
  },
  {
   "cell_type": "markdown",
   "metadata": {},
   "source": [
    "Windows PC@DESKTOP-T16LGE1 MINGW64 ~/Desktop/hw2_q1\n",
    "$ mv my_name2.txt people/Tiarne_Graves.txt"
   ]
  },
  {
   "cell_type": "markdown",
   "metadata": {},
   "source": [
    "#### 11i:"
   ]
  },
  {
   "cell_type": "markdown",
   "metadata": {},
   "source": [
    "Windows PC@DESKTOP-T16LGE1 MINGW64 ~/Desktop/hw2_q1\n",
    "$ echo \"Limao Chang\" > my_name3.txt\n",
    "\n",
    "Windows PC@DESKTOP-T16LGE1 MINGW64 ~/Desktop/hw2_q1\n",
    "$ mv my_name3.txt people/Limao_Chang.txt\n",
    "\n",
    "Windows PC@DESKTOP-T16LGE1 MINGW64 ~/Desktop/hw2_q1\n",
    "$ echo \"Rachel Chiong\" > my_name4.txt\n",
    "\n",
    "Windows PC@DESKTOP-T16LGE1 MINGW64 ~/Desktop/hw2_q1\n",
    "$ mv my_name4.txt people/Rachel_Chiong.txt\n",
    "\n",
    "Windows PC@DESKTOP-T16LGE1 MINGW64 ~/Desktop/hw2_q1\n",
    "$ echo \"Jackson Schilling\" > my_name5.txt\n",
    "\n",
    "Windows PC@DESKTOP-T16LGE1 MINGW64 ~/Desktop/hw2_q1\n",
    "$ mv my_name5.txt people/Jackson_Schilling.txt\n"
   ]
  },
  {
   "cell_type": "markdown",
   "metadata": {},
   "source": [
    "#### 11j:"
   ]
  },
  {
   "cell_type": "markdown",
   "metadata": {},
   "source": [
    "Windows PC@DESKTOP-T16LGE1 MINGW64 ~/Desktop/hw2_q1\n",
    "$ cd people\n",
    "\n",
    "Windows PC@DESKTOP-T16LGE1 MINGW64 ~/Desktop/hw2_q1/people\n",
    "$ mv Tiarne_Graves.txt ..\n"
   ]
  },
  {
   "cell_type": "markdown",
   "metadata": {},
   "source": [
    "#### 11k:"
   ]
  },
  {
   "cell_type": "markdown",
   "metadata": {},
   "source": [
    "Windows PC@DESKTOP-T16LGE1 MINGW64 ~/Desktop/hw2_q1/people\n",
    "$ mv Limao_Chang.txt ~/Desktop/hw2_q1"
   ]
  },
  {
   "cell_type": "markdown",
   "metadata": {},
   "source": [
    "#### 11l:"
   ]
  },
  {
   "cell_type": "markdown",
   "metadata": {},
   "source": [
    "Windows PC@DESKTOP-T16LGE1 MINGW64 ~/Desktop/hw2_q1/people\n",
    "$ cp Rachel_Chiong.txt .Rachel_Chiong.txt"
   ]
  },
  {
   "cell_type": "markdown",
   "metadata": {},
   "source": [
    "#### 11m:"
   ]
  },
  {
   "cell_type": "markdown",
   "metadata": {},
   "source": [
    "Windows PC@DESKTOP-T16LGE1 MINGW64 ~/Desktop/hw2_q1/people\n",
    "$ ls -la\n",
    "total 11\n",
    "drwxr-xr-x 1 Windows PC 197121  0 Aug  8 20:44 ./\n",
    "drwxr-xr-x 1 Windows PC 197121  0 Aug  8 20:42 ../\n",
    "-rw-r--r-- 1 Windows PC 197121 14 Aug  8 20:44 .Rachel_Chiong.txt\n",
    "-rw-r--r-- 1 Windows PC 197121 18 Aug  8 20:39 Jackson_Schilling.txt\n",
    "-rw-r--r-- 1 Windows PC 197121 14 Aug  8 20:38 Rachel_Chiong.txt\n"
   ]
  },
  {
   "cell_type": "markdown",
   "metadata": {},
   "source": [
    "#### 11n:"
   ]
  },
  {
   "cell_type": "markdown",
   "metadata": {},
   "source": [
    "Windows PC@DESKTOP-T16LGE1 MINGW64 ~/Desktop/hw2_q1/people\n",
    "$ rm *\n"
   ]
  },
  {
   "cell_type": "markdown",
   "metadata": {},
   "source": [
    "#### 11o:"
   ]
  },
  {
   "cell_type": "markdown",
   "metadata": {},
   "source": [
    "Windows PC@DESKTOP-T16LGE1 MINGW64 ~/Desktop/hw2_q1\n",
    "$ rm -r people\n"
   ]
  },
  {
   "cell_type": "markdown",
   "metadata": {},
   "source": [
    "# Solution to [Question 12](https://courses.smp.uq.edu.au/MATH2504/2022/assessment_html/bighw.html#q12)"
   ]
  },
  {
   "cell_type": "code",
   "execution_count": null,
   "metadata": {},
   "outputs": [],
   "source": [
    "using HTTP, JSON, DataFrames, CSV\n",
    "\n",
    "#importing JSON file\n",
    "prac_web = HTTP.request(\"GET\",\"https://raw.githubusercontent.com/yoninazarathy/ProgrammingCourse-with-Julia-SimulationAnalysisAndLearningSystems/main/practicals_jupyter/practical_B_julia_essentials.ipynb\")\n",
    "\n",
    "#get body of the request\n",
    "prac_web_data = JSON.parse(String(prac_web.body))\n",
    "\n",
    "#find number of cells\n",
    "cells = prac_web_data[\"cells\"]\n",
    "number_of_cells = length(cells)\n",
    "println(\"The total number of cells is $number_of_cells\n",
    "    \")\n",
    "\n",
    "#while function to find number of code and markdown cells\n",
    "i = 1\n",
    "markdown_cells = 0\n",
    "code_cells = 0 \n",
    "while i<=60\n",
    "    b = (prac_web_data[\"cells\"][i][\"cell_type\"]) \n",
    "    if b == \"markdown\"\n",
    "        markdown_cells = markdown_cells +1\n",
    "    else b == \"code\"\n",
    "        code_cells = code_cells + 1\n",
    "    end\n",
    "    i = i + 1\n",
    "end\n",
    "\n",
    "println(\"The number of markdown cells is \", markdown_cells, \"\n",
    "    \")\n",
    "println(\"The number of code cells is \", code_cells, \"\n",
    "    \")\n",
    "\n",
    "#determines if code cells have an output\n",
    "output = 0 \n",
    "no_output = 0\n",
    "for cell in prac_web_data[\"cells\"]\n",
    "    if cell[\"cell_type\"] == \"code\"\n",
    "        if !isempty(cell[\"outputs\"]) #tells if there has been a code output\n",
    "            output = output + 1\n",
    "        else\n",
    "            no_output = no_output + 1\n",
    "        end\n",
    "    end\n",
    "end\n",
    "\n",
    "println(output, \" code cells have an output\n",
    "    \")\n",
    "println(no_output, \" code cells have no output\n",
    "    \")\n",
    "\n",
    "#determines if cells have metadata\n",
    "metadata = 0 \n",
    "no_metadata = 0\n",
    "for cell in prac_web_data[\"cells\"]\n",
    "        if !isempty(cell[\"metadata\"]) #tells if there has been a code output\n",
    "            metadata = metadata + 1\n",
    "        else\n",
    "            no_metadata = no_metadata + 1\n",
    "    end\n",
    "end\n",
    "\n",
    "println(metadata, \" code cells have metadata\n",
    "    \")\n",
    "println(no_metadata, \" code cells have no metadata\n",
    "    \")\n",
    "\n",
    "\n",
    "#while loop to get cell numbers for markdown \n",
    "i = 1 #index for cell number\n",
    "j = 1 #index for array\n",
    "markdown_cell_number_array = Array{Int}(undef, markdown_cells) #define basic array\n",
    "while i<=60\n",
    "    b = (prac_web_data[\"cells\"][i][\"cell_type\"]) \n",
    "    if b == \"markdown\"  #if this is a markdown cell then then the cell number (i) is recorded in the array\n",
    "        markdown_cell_number_array[j] = i \n",
    "        j = j + 1\n",
    "    else   \n",
    "    end\n",
    "    i = i + 1\n",
    "end\n",
    "\n",
    "\n",
    "#while loop to get cell numbers for code \n",
    "i = 1 #index for cell number\n",
    "j = 1 #index for array\n",
    "code_cell_number_array = Array{Int}(undef, code_cells) #define basic array\n",
    "while i<=60\n",
    "    b = (prac_web_data[\"cells\"][i][\"cell_type\"]) \n",
    "    if b == \"code\"\n",
    "        code_cell_number_array[j] = i \n",
    "        j = j + 1\n",
    "    else   \n",
    "    end\n",
    "    i = i + 1\n",
    "end\n",
    "\n",
    "\n",
    "#character count for markdown\n",
    "i = 1\n",
    "markdown_character_count_array = Array{Int}(undef, markdown_cells)\n",
    "while i<=markdown_cells\n",
    "    x = markdown_cell_number_array[i]\n",
    "     # calculates character count by letting y = the first entry (the actual string) and then taking the length\n",
    "    y = (prac_web_data[\"cells\"][x][\"source\"])[1]\n",
    "    markdown_character_count_array[i] = length(y) \n",
    "    i = i + 1\n",
    "end\n",
    "   \n",
    "#character count for code\n",
    "i = 1\n",
    "code_character_count_array = Array{Int}(undef, code_cells)\n",
    "while i<=code_cells\n",
    "    x = code_cell_number_array[i]\n",
    "    # calculates character count by letting y = the first entry (the actual string) and then taking the length\n",
    "    y = (prac_web_data[\"cells\"][x][\"source\"])[1]\n",
    "    code_character_count_array[i] = length(y)\n",
    "    i = i + 1\n",
    "end\n",
    "\n",
    "\n",
    "#linecount for markdown ##not sure why/how this works but it does, tested it multiple times on a terminal and it works\n",
    "i = 1\n",
    "markdown_line_count_array = Array{Int}(undef, markdown_cells)\n",
    "while i<=markdown_cells\n",
    "    x = markdown_cell_number_array[i]\n",
    "    y = (prac_web_data[\"cells\"][x][\"source\"])\n",
    "    markdown_line_count_array[i] = length(y)\n",
    "    i = i + 1\n",
    "end\n",
    "\n",
    "\n",
    "#linecount for code\n",
    "i = 1\n",
    "code_line_count_array = Array{Int}(undef, code_cells)\n",
    "while i<=code_cells\n",
    "    x = code_cell_number_array[i]\n",
    "    y = (prac_web_data[\"cells\"][x][\"source\"])\n",
    "    code_line_count_array[i] = length(y)\n",
    "    i = i + 1\n",
    "end\n",
    "\n",
    "\n",
    "# #hashcount\n",
    "i = 1 \n",
    "#create empty array for each # variable\n",
    "hash_count_array = Array{Int}(undef, markdown_cells)\n",
    "hash_count2_array = Array{Int}(undef, markdown_cells)\n",
    "hash_count3_array = Array{Int}(undef, markdown_cells)\n",
    "hash_count4_array = Array{Int}(undef, markdown_cells)\n",
    "while i<=markdown_cells\n",
    "    x = markdown_cell_number_array[i] #specifying markdown cells\n",
    "    y = (prac_web_data[\"cells\"][x][\"source\"])\n",
    "    n = length(y)\n",
    "    j = 1\n",
    "    hash_count = 0\n",
    "    hash_count2 = 0\n",
    "    hash_count3 = 0\n",
    "    hash_count4 = 0\n",
    "        while j<=n #i think this is going by each line in the code and checking if there is a hash and adding to count\n",
    "            z = y[j]\n",
    "            hash_count4 = hash_count4 + count(\"####\", z)\n",
    "            hash_count3 = hash_count3 + count(\"###\", z) \n",
    "            hash_count2 = hash_count2 + count(\"##\", z)\n",
    "            hash_count = hash_count + count(\"#\", z)\n",
    "            j = j + 1\n",
    "        end\n",
    "#removing double up of hashes\n",
    "\n",
    "hash_count3 = hash_count3 - hash_count4\n",
    "hash_count2 = hash_count2 -2*hash_count4 - 1*hash_count3\n",
    "hash_count = hash_count - 2*hash_count2 - 3*hash_count3 - 4*hash_count4 \n",
    "    \n",
    "#transfering to array\n",
    "hash_count_array[i] = hash_count \n",
    "hash_count2_array[i] = hash_count2\n",
    "hash_count3_array[i] = hash_count3\n",
    "hash_count4_array[i] = hash_count4\n",
    "i = i + 1\n",
    "end\n",
    "\n",
    "\n",
    "#count number of keywords in code cells\n",
    "i = 1 \n",
    "#create empty array for each  variable\n",
    "return_count_array = Array{Int}(undef, code_cells)\n",
    "for_count_array = Array{Int}(undef, code_cells)\n",
    "if_count_array = Array{Int}(undef, code_cells)\n",
    "using_count_array = Array{Int}(undef, code_cells)\n",
    "while i<=code_cells\n",
    "    x = code_cell_number_array[i] #specifying code cells\n",
    "    y = (prac_web_data[\"cells\"][x][\"source\"])\n",
    "    n = length(y)\n",
    "    j = 1\n",
    "    return_count = 0\n",
    "    for_count = 0\n",
    "    if_count = 0\n",
    "    using_count = 0\n",
    "        while j<=n #i think this is going by each line in the code (each element in the array) and checking if there is a hash and adding to count\n",
    "            z = y[j]\n",
    "            return_count = return_count + count(\"return\",z)\n",
    "            for_count = for_count + count(\"for\",z)\n",
    "            if_count = if_count + count(\"if\", z)\n",
    "            using_count = using_count + count(\"using\", z)\n",
    "            j = j + 1\n",
    "        end\n",
    " \n",
    "#transfering to array \n",
    "return_count_array[i] = return_count\n",
    "for_count_array[i] = for_count\n",
    "if_count_array[i] = if_count\n",
    "using_count_array[i] = using_count\n",
    "i = i + 1\n",
    "end\n",
    "\n",
    "markdown_summary = DataFrame( cell_number = markdown_cell_number_array, \n",
    "                character_count = markdown_character_count_array, \n",
    "                line_count = markdown_line_count_array,\n",
    "                one_hash= hash_count_array,\n",
    "                two_hash = hash_count2_array,\n",
    "                three_hash = hash_count3_array,\n",
    "                four_hash = hash_count4_array )\n",
    "\n",
    "code_summary = DataFrame( cell_number = code_cell_number_array, \n",
    "                character_count = code_character_count_array, \n",
    "                line_count = code_line_count_array,\n",
    "                return_ = return_count_array,\n",
    "                for_ = for_count_array,\n",
    "                if_ = if_count_array,\n",
    "                using_ = using_count_array)\n",
    "\n",
    "\n",
    "@show markdown_summary\n",
    "@show code_summary\n",
    "CSV.write(\"markdown_summary.csv\", markdown_summary)\n",
    "CSV.write(\"code_summary.csv\", code_summary)\n"
   ]
  }
 ],
 "metadata": {
  "kernelspec": {
   "display_name": "Julia 1.7.3",
   "language": "julia",
   "name": "julia-1.7"
  },
  "language_info": {
   "file_extension": ".jl",
   "mimetype": "application/julia",
   "name": "julia",
   "version": "1.7.3"
  }
 },
 "nbformat": 4,
 "nbformat_minor": 4
}
