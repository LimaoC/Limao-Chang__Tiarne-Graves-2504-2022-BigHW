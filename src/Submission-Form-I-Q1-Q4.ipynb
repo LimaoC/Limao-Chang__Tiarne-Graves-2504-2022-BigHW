{
 "cells": [
  {
   "cell_type": "markdown",
   "metadata": {},
   "source": [
    "### MATH2504 S2, 2022, BigHW Submission \n",
    "### Submission form I of IV "
   ]
  },
  {
   "cell_type": "markdown",
   "metadata": {},
   "source": [
    "Student #1 name: Limao Chang\n",
    "\n",
    "Student #1 ID: 46978554\n",
    "\n",
    "Student #2 name: Tiarne Graves\n",
    "\n",
    "Student #2 ID: 46973081\n",
    "\n",
    "GitHub repo: https://github.com/LimaoC/Limao-Chang__Tiarne-Graves-2504-2022-BigHW"
   ]
  },
  {
   "cell_type": "markdown",
   "metadata": {},
   "source": [
    "---"
   ]
  },
  {
   "cell_type": "markdown",
   "metadata": {},
   "source": [
    "# Solution to [Question 1](https://courses.smp.uq.edu.au/MATH2504/2022/assessment_html/bighw.html#q1)"
   ]
  },
  {
   "cell_type": "markdown",
   "metadata": {},
   "source": [
    "#### 1a:"
   ]
  },
  {
   "cell_type": "markdown",
   "metadata": {},
   "source": [
    "$$\\varphi = 1 + \\frac{1}{1 + \\frac{1}{1 + \\frac{1}{1 + \\frac{1}{1 + \\ddots}}}}$$"
   ]
  },
  {
   "cell_type": "markdown",
   "metadata": {},
   "source": [
    "#### 1b:"
   ]
  },
  {
   "cell_type": "markdown",
   "metadata": {},
   "source": [
    "Favourite books:\n",
    "\n",
    "1. [Harry Potter and the Prisoner of Azkaban](https://en.wikipedia.org/wiki/Harry_Potter_and_the_Prisoner_of_Azkaban)\n",
    "2. [The Wind in the Willows](https://en.wikipedia.org/wiki/The_Wind_in_the_Willows)\n",
    "3. [Animal Farm](https://en.wikipedia.org/wiki/Animal_Farm)\n",
    "4. [The Faraway Tree](https://en.wikipedia.org/wiki/The_Faraway_Tree)\n",
    "5. [Introduction to Mathematical Philosophy](https://en.wikipedia.org/wiki/Introduction_to_Mathematical_Philosophy)"
   ]
  },
  {
   "cell_type": "markdown",
   "metadata": {},
   "source": [
    "#### 1c:"
   ]
  },
  {
   "cell_type": "markdown",
   "metadata": {},
   "source": [
    "<img src=\"https://media.wired.com/photos/592715967034dc5f91bed975/master/pass/FennecFox.jpg\" width=\"480\" height=\"270\"/>"
   ]
  },
  {
   "cell_type": "markdown",
   "metadata": {},
   "source": [
    "#### 1d:"
   ]
  },
  {
   "cell_type": "markdown",
   "metadata": {},
   "source": [
    "<table>\n",
    "    <tr>\n",
    "        <th></th>\n",
    "        <th>8:00-9:00</th>\n",
    "        <th>9:00-10:00</th>\n",
    "        <th>10:00-11:00</th>\n",
    "        <th>11:00-12:00</th>\n",
    "        <th>12:00-13:00</th>\n",
    "        <th>13:00-14:00</th>\n",
    "        <th>14:00-15:00</th>\n",
    "        <th>15:00-16:00</th>\n",
    "        <th>16:00-17:00</th>\n",
    "        <th>17:00-18:00</th>\n",
    "        <th>18:00-19:00</th>\n",
    "        <th>19:00-20:00</th>\n",
    "    </tr>\n",
    "    <tr>\n",
    "        <th>Monday</th>\n",
    "        <th>—</th>\n",
    "        <th>—</th>\n",
    "        <th colspan=\"2\">COMP3506 LEC</th>\n",
    "        <th>—</th>\n",
    "        <th>—</th>\n",
    "        <th>—</th>\n",
    "        <th>—</th>\n",
    "        <th>—</th>\n",
    "        <th colspan=\"2\">MATH2504 LEC</th>\n",
    "        <th>—</th>\n",
    "    </tr>\n",
    "    <tr>\n",
    "        <th>Tuesday</th>\n",
    "        <th>—</th>\n",
    "        <th>—</th>\n",
    "        <th>—</th>\n",
    "        <th>—</th>\n",
    "        <th colspan=\"2\">CSSE2310 LEC</th>\n",
    "        <th>—</th>\n",
    "        <th>—</th>\n",
    "        <th>—</th>\n",
    "        <th>STAT2004 TUT</th>\n",
    "        <th>MATH2504 LEC</th>\n",
    "        <th>—</th>\n",
    "    </tr>\n",
    "    <tr>\n",
    "        <th>Wednesday</th>\n",
    "        <th>—</th>\n",
    "        <th>—</th>\n",
    "        <th>STAT2004 LEC</th>\n",
    "        <th>—</th>\n",
    "        <th>—</th>\n",
    "        <th>—</th>\n",
    "        <th>—</th>\n",
    "        <th>—</th>\n",
    "        <th>—</th>\n",
    "        <th>—</th>\n",
    "        <th>—</th>\n",
    "        <th>—</th>\n",
    "    </tr>\n",
    "    <tr>\n",
    "        <th>Thursday</th>\n",
    "        <th>—</th>\n",
    "        <th>—</th>\n",
    "        <th colspan=\"2\">COMP3506 TUT</th>\n",
    "        <th>—</th>\n",
    "        <th>—</th>\n",
    "        <th>—</th>\n",
    "        <th>—</th>\n",
    "        <th>—</th>\n",
    "        <th>—</th>\n",
    "        <th>—</th>\n",
    "        <th>—</th>\n",
    "    </tr>\n",
    "    <tr>\n",
    "        <th>Friday</th>\n",
    "        <th>—</th>\n",
    "        <th>—</th>\n",
    "        <th colspan=\"2\">MATH2504 PRA</th>\n",
    "        <th>STAT2004 LEC</th>\n",
    "        <th>—</th>\n",
    "        <th colspan=\"2\">CSSE2310 PRA</th>\n",
    "        <th>—</th>\n",
    "        <th>—</th>\n",
    "        <th>—</th>\n",
    "        <th>—</th>\n",
    "    </tr>\n",
    "</table>"
   ]
  },
  {
   "cell_type": "markdown",
   "metadata": {},
   "source": [
    "# Solution to [Question 2](https://courses.smp.uq.edu.au/MATH2504/2022/assessment_html/bighw.html#q2)"
   ]
  },
  {
   "cell_type": "markdown",
   "metadata": {},
   "source": [
    "#### 2a:"
   ]
  },
  {
   "cell_type": "code",
   "execution_count": null,
   "metadata": {},
   "outputs": [],
   "source": []
  },
  {
   "cell_type": "markdown",
   "metadata": {},
   "source": [
    "#### 2b:"
   ]
  },
  {
   "cell_type": "code",
   "execution_count": null,
   "metadata": {},
   "outputs": [],
   "source": []
  },
  {
   "cell_type": "markdown",
   "metadata": {},
   "source": [
    "#### 2c:"
   ]
  },
  {
   "cell_type": "code",
   "execution_count": null,
   "metadata": {},
   "outputs": [],
   "source": []
  },
  {
   "cell_type": "markdown",
   "metadata": {},
   "source": [
    "#### 2d:"
   ]
  },
  {
   "cell_type": "code",
   "execution_count": null,
   "metadata": {},
   "outputs": [],
   "source": []
  },
  {
   "cell_type": "markdown",
   "metadata": {},
   "source": [
    "# Solution to [Question 3](https://courses.smp.uq.edu.au/MATH2504/2022/assessment_html/bighw.html#q3)"
   ]
  },
  {
   "cell_type": "markdown",
   "metadata": {},
   "source": [
    "#### 3a:"
   ]
  },
  {
   "cell_type": "code",
   "execution_count": null,
   "metadata": {},
   "outputs": [],
   "source": []
  },
  {
   "cell_type": "markdown",
   "metadata": {},
   "source": [
    "#### 3b:"
   ]
  },
  {
   "cell_type": "code",
   "execution_count": null,
   "metadata": {},
   "outputs": [],
   "source": []
  },
  {
   "cell_type": "markdown",
   "metadata": {},
   "source": [
    "#### 3c:"
   ]
  },
  {
   "cell_type": "code",
   "execution_count": null,
   "metadata": {},
   "outputs": [],
   "source": []
  },
  {
   "cell_type": "markdown",
   "metadata": {},
   "source": [
    "# Solution to [Question 4](https://courses.smp.uq.edu.au/MATH2504/2022/assessment_html/bighw.html#q4)"
   ]
  },
  {
   "cell_type": "markdown",
   "metadata": {},
   "source": [
    "#### 4a:"
   ]
  },
  {
   "cell_type": "code",
   "execution_count": null,
   "metadata": {},
   "outputs": [],
   "source": []
  },
  {
   "cell_type": "markdown",
   "metadata": {},
   "source": [
    "#### 4b:"
   ]
  },
  {
   "cell_type": "code",
   "execution_count": null,
   "metadata": {},
   "outputs": [],
   "source": []
  },
  {
   "cell_type": "markdown",
   "metadata": {},
   "source": [
    "#### 4c:"
   ]
  },
  {
   "cell_type": "code",
   "execution_count": null,
   "metadata": {},
   "outputs": [],
   "source": []
  }
 ],
 "metadata": {
  "kernelspec": {
   "display_name": "Julia 1.7.3",
   "language": "julia",
   "name": "julia-1.7"
  },
  "language_info": {
   "file_extension": ".jl",
   "mimetype": "application/julia",
   "name": "julia",
   "version": "1.7.3"
  }
 },
 "nbformat": 4,
 "nbformat_minor": 4
}
